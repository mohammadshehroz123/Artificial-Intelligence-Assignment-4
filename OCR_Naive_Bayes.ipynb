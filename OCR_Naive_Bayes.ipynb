{
  "cells": [
    {
      "cell_type": "markdown",
      "metadata": {
        "id": "view-in-github",
        "colab_type": "text"
      },
      "source": [
        "<a href=\"https://colab.research.google.com/github/mohammadshehroz123/Artificial-Intelligence-Assignment-4/blob/main/OCR_Naive_Bayes.ipynb\" target=\"_parent\"><img src=\"https://colab.research.google.com/assets/colab-badge.svg\" alt=\"Open In Colab\"/></a>"
      ]
    },
    {
      "cell_type": "code",
      "execution_count": 1,
      "id": "d671b3cb-2df4-4b71-93da-ac6d72c92d7f",
      "metadata": {
        "id": "d671b3cb-2df4-4b71-93da-ac6d72c92d7f"
      },
      "outputs": [],
      "source": [
        "import numpy as np\n",
        "from matplotlib import pyplot as plt"
      ]
    },
    {
      "cell_type": "code",
      "execution_count": 2,
      "id": "44b9dec9-2c11-42a6-98f9-fdb5462e37ab",
      "metadata": {
        "id": "44b9dec9-2c11-42a6-98f9-fdb5462e37ab"
      },
      "outputs": [],
      "source": [
        "#reading data from files\n",
        "\n",
        "train_x= np.genfromtxt(\"trainX.txt\")\n",
        "train_y= np.genfromtxt(\"trainY.txt\")\n",
        "test_x= np.genfromtxt(\"testX.txt\")\n",
        "test_y= np.genfromtxt(\"testY.txt\")\n",
        "\n",
        "two_train=train_x[:250,:]\n",
        "four_train=train_x[250:,:]\n",
        "#plt.imshow(np.reshape(train_x[6],(16,16),order='F'))"
      ]
    },
    {
      "cell_type": "code",
      "execution_count": 3,
      "id": "5b7ff995-a765-4c74-b553-d98aad5ffc74",
      "metadata": {
        "id": "5b7ff995-a765-4c74-b553-d98aad5ffc74"
      },
      "outputs": [],
      "source": [
        "train2_one=(two_train.sum(axis=0)+1)/(two_train.shape[0]+2)\n",
        "train4_one=(four_train.sum(axis=0)+1)/(four_train.shape[0]+2)\n",
        "train2_zero=1-train2_one\n",
        "train4_zero=1-train4_one"
      ]
    },
    {
      "cell_type": "code",
      "execution_count": 4,
      "id": "abf59838-17f6-4e24-bc1d-9cd08542baa4",
      "metadata": {
        "id": "abf59838-17f6-4e24-bc1d-9cd08542baa4"
      },
      "outputs": [],
      "source": [
        "#now determining probs\n",
        "prob2or4=0.5 #as 250/500"
      ]
    },
    {
      "cell_type": "code",
      "execution_count": 5,
      "id": "28151c3c-0310-4c3a-a316-d45b1be88392",
      "metadata": {
        "id": "28151c3c-0310-4c3a-a316-d45b1be88392"
      },
      "outputs": [],
      "source": [
        "#Model Results \n",
        "Results=list()\n",
        "for x in range(0,test_x.shape[0]):\n",
        "    prob2inTest=1.0\n",
        "    prob4inTest=1.0\n",
        "    for y in range(0,test_x.shape[1]):\n",
        "        if test_x[x,y]==1:\n",
        "            prob2inTest=prob2inTest*train2_one[y]\n",
        "            prob4inTest=prob4inTest*train4_one[y]\n",
        "        elif test_x[x,y]==0:\n",
        "            prob2inTest=prob2inTest*train2_zero[y]\n",
        "            prob4inTest=prob4inTest*train4_zero[y]\n",
        "    prob2inTest=prob2inTest*prob2or4\n",
        "    prob4inTest=prob4inTest*prob2or4\n",
        "    if(prob2inTest>prob4inTest):\n",
        "        Results.append(2)\n",
        "    else:\n",
        "        Results.append(4)\n",
        "\n"
      ]
    },
    {
      "cell_type": "code",
      "execution_count": 6,
      "id": "f22d46a9-4d5a-4610-9bcf-209250da16da",
      "metadata": {
        "colab": {
          "base_uri": "https://localhost:8080/"
        },
        "id": "f22d46a9-4d5a-4610-9bcf-209250da16da",
        "outputId": "a8a9e179-097e-412c-95fd-a6650e66ec8f"
      },
      "outputs": [
        {
          "output_type": "stream",
          "name": "stdout",
          "text": [
            "Accuracy is = 100 %\n",
            "Testing Accuracy on class 2 is = 100.0 %\n",
            "Testing Accuracy on class 4 is = 100.0 %\n",
            "Training Accuracy of Class 2 is = 98.4 %\n",
            "Training Accuracy of Class 4 is = 99.2 %\n"
          ]
        }
      ],
      "source": [
        "# checking accuracy/Testing Accuracy\n",
        "accuracy=0\n",
        "has2=0\n",
        "has4=0\n",
        "for i in range(0,100):\n",
        "    if test_y[i]==Results[i]:\n",
        "        accuracy+=1\n",
        "        if Results[i]==2:\n",
        "            has2+=1\n",
        "        elif Results[i]==4:\n",
        "            has4+=1\n",
        "\n",
        "countof2InTestY = len(test_y[test_y==2])\n",
        "countof4InTestY = len(test_y[test_y==4])\n",
        "print(\"Accuracy is =\",accuracy ,\"%\")\n",
        "print(\"Testing Accuracy on class 2 is =\",has2/countof2InTestY*100,\"%\")\n",
        "print(\"Testing Accuracy on class 4 is =\",has4/countof4InTestY*100,\"%\")\n",
        "\n",
        "\n",
        "#testing and training accuracy\n",
        "\n",
        "countof2InTrainY = len(train_y[train_y==2])\n",
        "countof4InTrainY = len(train_y[train_y==4])\n",
        "\n",
        "Results2=list()\n",
        "for x in range(0,train_x.shape[0]):\n",
        "    prob2inTrain=1.0\n",
        "    prob4inTrain=1.0\n",
        "    for y in range(0,train_x.shape[1]):\n",
        "        if train_x[x,y]==1:\n",
        "            prob2inTrain=prob2inTrain*train2_one[y]\n",
        "            prob4inTrain=prob4inTrain*train4_one[y]\n",
        "        elif train_x[x,y]==0:\n",
        "            prob2inTrain=prob2inTrain*train2_zero[y]\n",
        "            prob4inTrain=prob4inTrain*train4_zero[y]\n",
        "    prob2inTrain=prob2inTrain*prob2or4\n",
        "    prob4inTrain=prob4inTrain*prob2or4\n",
        "    if(prob2inTrain>prob4inTrain):\n",
        "        Results2.append(2)\n",
        "    else:\n",
        "        Results2.append(4)\n",
        "\n",
        "        \n",
        "is2=0\n",
        "is4=0\n",
        "for x in range(0,len(Results2)):\n",
        "    if(Results2[x]==train_y[x]):\n",
        "        if(Results2[x]==2):\n",
        "            is2+=1\n",
        "        elif(Results2[x]==4):\n",
        "            is4+=1\n",
        "\n",
        "print(\"Training Accuracy of Class 2 is =\",(is2/countof2InTrainY)*100,\"%\")\n",
        "print(\"Training Accuracy of Class 4 is =\",(is4/countof4InTrainY)*100,\"%\")\n",
        "\n",
        "\n"
      ]
    },
    {
      "cell_type": "code",
      "execution_count": null,
      "id": "4acb3b38-c4f2-45d4-95dd-914d865e7024",
      "metadata": {
        "id": "4acb3b38-c4f2-45d4-95dd-914d865e7024"
      },
      "outputs": [],
      "source": [
        ""
      ]
    }
  ],
  "metadata": {
    "kernelspec": {
      "display_name": "Python 3",
      "language": "python",
      "name": "python3"
    },
    "language_info": {
      "codemirror_mode": {
        "name": "ipython",
        "version": 3
      },
      "file_extension": ".py",
      "mimetype": "text/x-python",
      "name": "python",
      "nbconvert_exporter": "python",
      "pygments_lexer": "ipython3",
      "version": "3.9.5"
    },
    "colab": {
      "name": "OCR_Naive_Bayes.ipynb",
      "provenance": [],
      "include_colab_link": true
    }
  },
  "nbformat": 4,
  "nbformat_minor": 5
}